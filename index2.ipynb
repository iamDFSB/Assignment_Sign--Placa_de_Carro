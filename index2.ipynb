{
 "cells": [
  {
   "cell_type": "markdown",
   "metadata": {},
   "source": [
    "Aplicando Bibliotecas"
   ]
  },
  {
   "cell_type": "code",
   "execution_count": 1,
   "metadata": {},
   "outputs": [],
   "source": [
    "import pandas as pd \n",
    "import json"
   ]
  },
  {
   "cell_type": "markdown",
   "metadata": {},
   "source": [
    "Coleta de Placas"
   ]
  },
  {
   "cell_type": "code",
   "execution_count": 2,
   "metadata": {},
   "outputs": [
    {
     "name": "stdout",
     "output_type": "stream",
     "text": [
      "Caso queira para de rodar digite \".exit()\" ou apenas click em Enter\n",
      "----------------------------------------\n",
      "\n",
      "\n",
      "Escreva sua placa:\n",
      "----------------------------------------\n",
      "\n",
      "\n",
      "Escreva sua placa:\n",
      "----------------------------------------\n",
      "\n",
      "\n",
      "Escreva sua placa:\n",
      "----------------------------------------\n",
      "\n",
      "\n",
      "Escreva sua placa:\n"
     ]
    }
   ],
   "source": [
    "\n",
    "lista_placa = []\n",
    "flag = None\n",
    "placa_completa = []\n",
    "\n",
    "print(\"Caso queira para de rodar digite \\\".exit()\\\" ou apenas click em Enter\")\n",
    "\n",
    "while flag == None:\n",
    "    print(\"-\"*40)\n",
    "    print(\"\\n\")\n",
    "    print(\"Escreva sua placa:\")\n",
    "    try:\n",
    "        placa = input(\">>> \")\n",
    "\n",
    "        if placa == \".exit()\" or placa == \"\":\n",
    "            flag = True\n",
    "            break\n",
    "        placa_completa.append(placa)\n",
    "        lista_placa.append(int(placa[-1]))\n",
    "    except:\n",
    "        print(\"Impossivel verificar\")\n",
    "\n",
    "\n",
    "dicionario = {\n",
    "    \"placa\": placa_completa,\n",
    "    \"last_char\":lista_placa,\n",
    "    \"status\" : [],\n",
    "}\n"
   ]
  },
  {
   "cell_type": "markdown",
   "metadata": {},
   "source": [
    "Identificação do dia no qual não podemos dirigir"
   ]
  },
  {
   "cell_type": "code",
   "execution_count": 3,
   "metadata": {},
   "outputs": [
    {
     "name": "stdout",
     "output_type": "stream",
     "text": [
      "Não pode andar na terça-feira\n",
      "Não pode andar na quinta-feira\n",
      "Não pode andar na sexta-feira\n"
     ]
    }
   ],
   "source": [
    "def resposta(lista):\n",
    "    for placa in lista:\n",
    "        match placa:\n",
    "            case 1 | 2:\n",
    "                print(\"Não pode andar na segunda-feira\")\n",
    "                dicionario[\"status\"].append(\"segunda\")\n",
    "            case 3 | 4:\n",
    "                print(\"Não pode andar na terça-feira\")\n",
    "                dicionario[\"status\"].append(\"terca\")\n",
    "            case 5 | 6:\n",
    "                print(\"Não pode andar na quarta-feira\")\n",
    "                dicionario[\"status\"].append(\"quarta\")\n",
    "            case 7 | 8:\n",
    "                print(\"Não pode andar na quinta-feira\")\n",
    "                dicionario[\"status\"].append(\"quinta\")\n",
    "            case 9 | 0:\n",
    "                print(\"Não pode andar na sexta-feira\")\n",
    "                dicionario[\"status\"].append(\"sexta\")\n",
    "            case _:\n",
    "                print(\"Não foi possível ler a placa\")\n",
    "                dicionario[\"status\"].append(\"Sem status\")\n",
    "                \n",
    "resposta(lista_placa)"
   ]
  },
  {
   "cell_type": "markdown",
   "metadata": {},
   "source": [
    "Criação de um arquivo Json e Tabela para inserção em DB"
   ]
  },
  {
   "cell_type": "code",
   "execution_count": 4,
   "metadata": {},
   "outputs": [
    {
     "name": "stdout",
     "output_type": "stream",
     "text": [
      "----------------------------------------\n",
      "\n",
      "\n"
     ]
    },
    {
     "data": {
      "text/html": [
       "<div>\n",
       "<style scoped>\n",
       "    .dataframe tbody tr th:only-of-type {\n",
       "        vertical-align: middle;\n",
       "    }\n",
       "\n",
       "    .dataframe tbody tr th {\n",
       "        vertical-align: top;\n",
       "    }\n",
       "\n",
       "    .dataframe thead th {\n",
       "        text-align: right;\n",
       "    }\n",
       "</style>\n",
       "<table border=\"1\" class=\"dataframe\">\n",
       "  <thead>\n",
       "    <tr style=\"text-align: right;\">\n",
       "      <th></th>\n",
       "      <th>placa</th>\n",
       "      <th>last_char</th>\n",
       "      <th>status</th>\n",
       "    </tr>\n",
       "  </thead>\n",
       "  <tbody>\n",
       "    <tr>\n",
       "      <th>0</th>\n",
       "      <td>JKL234</td>\n",
       "      <td>4</td>\n",
       "      <td>terca</td>\n",
       "    </tr>\n",
       "    <tr>\n",
       "      <th>1</th>\n",
       "      <td>DFG567</td>\n",
       "      <td>7</td>\n",
       "      <td>quinta</td>\n",
       "    </tr>\n",
       "    <tr>\n",
       "      <th>2</th>\n",
       "      <td>RIUT789</td>\n",
       "      <td>9</td>\n",
       "      <td>sexta</td>\n",
       "    </tr>\n",
       "  </tbody>\n",
       "</table>\n",
       "</div>"
      ],
      "text/plain": [
       "     placa  last_char  status\n",
       "0   JKL234          4   terca\n",
       "1   DFG567          7  quinta\n",
       "2  RIUT789          9   sexta"
      ]
     },
     "metadata": {},
     "output_type": "display_data"
    },
    {
     "name": "stdout",
     "output_type": "stream",
     "text": [
      "----------------------------------------\n",
      "\n",
      "\n",
      "\n",
      "\n",
      "{'placa': {'0': 'JKL234', '1': 'DFG567', '2': 'RIUT789'}, 'last_char': {'0': 4, '1': 7, '2': 9}, 'status': {'0': 'terca', '1': 'quinta', '2': 'sexta'}}\n",
      "{\n",
      "     \"last_char\": {\n",
      "          \"0\": 4,\n",
      "          \"1\": 7,\n",
      "          \"2\": 9\n",
      "     },\n",
      "     \"placa\": {\n",
      "          \"0\": \"JKL234\",\n",
      "          \"1\": \"DFG567\",\n",
      "          \"2\": \"RIUT789\"\n",
      "     },\n",
      "     \"status\": {\n",
      "          \"0\": \"terca\",\n",
      "          \"1\": \"quinta\",\n",
      "          \"2\": \"sexta\"\n",
      "     }\n",
      "}\n"
     ]
    }
   ],
   "source": [
    "print(\"-\"*40)\n",
    "print(\"\\n\")\n",
    "\n",
    "# Criando tabela com os dados:\n",
    "df = pd.DataFrame(dicionario)\n",
    "\n",
    "# Demonstração d tabela:\n",
    "display(df)\n",
    "\n",
    "print(\"-\"*40)\n",
    "print(\"\\n\")\n",
    "print(\"\\n\")\n",
    "\n",
    "# Criando arquivo json com os dados\n",
    "df.to_json(\"tabela_nova.json\")\n",
    "\n",
    "caminho = r\"C:\\Users\\daniel.sbatista\\Documents\\Estudo\\Projetos_Python\\Aprendendo Python\\tabela_nova.json\"\n",
    "\n",
    "# Abrindo arquivo para demonstração em Json:\n",
    "with open(caminho) as arquivo:\n",
    "    arqv_json = json.load(arquivo)\n",
    "    print(arqv_json)\n",
    "    dados = json.dumps(arqv_json,indent=5,sort_keys=True)\n",
    "    print(dados) "
   ]
  }
 ],
 "metadata": {
  "kernelspec": {
   "display_name": "Python 3",
   "language": "python",
   "name": "python3"
  },
  "language_info": {
   "codemirror_mode": {
    "name": "ipython",
    "version": 3
   },
   "file_extension": ".py",
   "mimetype": "text/x-python",
   "name": "python",
   "nbconvert_exporter": "python",
   "pygments_lexer": "ipython3",
   "version": "3.11.2"
  }
 },
 "nbformat": 4,
 "nbformat_minor": 2
}
