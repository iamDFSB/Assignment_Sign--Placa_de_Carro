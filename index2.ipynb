{
 "cells": [
  {
   "cell_type": "markdown",
   "metadata": {},
   "source": [
    "Aplicando Bibliotecas"
   ]
  },
  {
   "cell_type": "code",
   "execution_count": 1,
   "metadata": {},
   "outputs": [],
   "source": [
    "import pandas as pd \n",
    "import json"
   ]
  },
  {
   "cell_type": "markdown",
   "metadata": {},
   "source": [
    "Coleta de Placas"
   ]
  },
  {
   "cell_type": "code",
   "execution_count": 2,
   "metadata": {},
   "outputs": [
    {
     "name": "stdout",
     "output_type": "stream",
     "text": [
      "Caso queira para de rodar digite \".exit()\" ou apenas click em Enter\n",
      "----------------------------------------\n",
      "\n",
      "\n",
      "Escreva sua placa:\n",
      "----------------------------------------\n",
      "\n",
      "\n",
      "Escreva sua placa:\n",
      "----------------------------------------\n",
      "\n",
      "\n",
      "Escreva sua placa:\n",
      "----------------------------------------\n",
      "\n",
      "\n",
      "Escreva sua placa:\n"
     ]
    }
   ],
   "source": [
    "\n",
    "lista_placa = []\n",
    "flag = None\n",
    "placa_completa = []\n",
    "\n",
    "print(\"Caso queira para de rodar digite \\\".exit()\\\" ou apenas click em Enter\")\n",
    "\n",
    "while flag == None:\n",
    "    print(\"-\"*40)\n",
    "    print(\"\\n\")\n",
    "    print(\"Escreva sua placa:\")\n",
    "    try:\n",
    "        placa = input(\">>> \")\n",
    "\n",
    "        if placa == \".exit()\" or placa == \"\":\n",
    "            flag = True\n",
    "            break\n",
    "        placa_completa.append(placa)\n",
    "        lista_placa.append(int(placa[-1]))\n",
    "    except:\n",
    "        print(\"Impossivel verificar\")\n",
    "\n",
    "\n",
    "dicionario = {\n",
    "    \"placa\": placa_completa,\n",
    "    \"last_char\":lista_placa,\n",
    "    \"status\" : [],\n",
    "}\n"
   ]
  },
  {
   "cell_type": "markdown",
   "metadata": {},
   "source": [
    "Identificação do dia no qual não podemos dirigir"
   ]
  },
  {
   "cell_type": "code",
   "execution_count": 3,
   "metadata": {},
   "outputs": [
    {
     "name": "stdout",
     "output_type": "stream",
     "text": [
      "Placas => ['ABC234', 'OIU456', 'SU546'] \n",
      "Não pode andar na terça-feira\n",
      "Não pode andar na quarta-feira\n",
      "Não pode andar na quarta-feira\n"
     ]
    }
   ],
   "source": [
    "print(f\"Placas => {placa_completa} \")\n",
    "def resposta(lista):\n",
    "    for placa in lista:\n",
    "        match placa:\n",
    "            case 1 | 2:\n",
    "                print(\"Não pode andar na segunda-feira\")\n",
    "                dicionario[\"status\"].append(\"segunda\")\n",
    "            case 3 | 4:\n",
    "                print(\"Não pode andar na terça-feira\")\n",
    "                dicionario[\"status\"].append(\"terca\")\n",
    "            case 5 | 6:\n",
    "                print(\"Não pode andar na quarta-feira\")\n",
    "                dicionario[\"status\"].append(\"quarta\")\n",
    "            case 7 | 8:\n",
    "                print(\"Não pode andar na quinta-feira\")\n",
    "                dicionario[\"status\"].append(\"quinta\")\n",
    "            case 9 | 0:\n",
    "                print(\"Não pode andar na sexta-feira\")\n",
    "                dicionario[\"status\"].append(\"sexta\")\n",
    "            case _:\n",
    "                print(\"Não foi possível ler a placa\")\n",
    "                dicionario[\"status\"].append(\"Sem status\")\n",
    "                \n",
    "resposta(lista_placa)"
   ]
  },
  {
   "cell_type": "markdown",
   "metadata": {},
   "source": [
    "Criação de um arquivo Json e Tabela para inserção em DB"
   ]
  },
  {
   "cell_type": "code",
   "execution_count": 4,
   "metadata": {},
   "outputs": [
    {
     "name": "stdout",
     "output_type": "stream",
     "text": [
      "----------------------------------------\n",
      "\n",
      "\n"
     ]
    },
    {
     "data": {
      "text/html": [
       "<div>\n",
       "<style scoped>\n",
       "    .dataframe tbody tr th:only-of-type {\n",
       "        vertical-align: middle;\n",
       "    }\n",
       "\n",
       "    .dataframe tbody tr th {\n",
       "        vertical-align: top;\n",
       "    }\n",
       "\n",
       "    .dataframe thead th {\n",
       "        text-align: right;\n",
       "    }\n",
       "</style>\n",
       "<table border=\"1\" class=\"dataframe\">\n",
       "  <thead>\n",
       "    <tr style=\"text-align: right;\">\n",
       "      <th></th>\n",
       "      <th>placa</th>\n",
       "      <th>last_char</th>\n",
       "      <th>status</th>\n",
       "    </tr>\n",
       "  </thead>\n",
       "  <tbody>\n",
       "    <tr>\n",
       "      <th>0</th>\n",
       "      <td>ABC234</td>\n",
       "      <td>4</td>\n",
       "      <td>terca</td>\n",
       "    </tr>\n",
       "    <tr>\n",
       "      <th>1</th>\n",
       "      <td>OIU456</td>\n",
       "      <td>6</td>\n",
       "      <td>quarta</td>\n",
       "    </tr>\n",
       "    <tr>\n",
       "      <th>2</th>\n",
       "      <td>SU546</td>\n",
       "      <td>6</td>\n",
       "      <td>quarta</td>\n",
       "    </tr>\n",
       "  </tbody>\n",
       "</table>\n",
       "</div>"
      ],
      "text/plain": [
       "    placa  last_char  status\n",
       "0  ABC234          4   terca\n",
       "1  OIU456          6  quarta\n",
       "2   SU546          6  quarta"
      ]
     },
     "metadata": {},
     "output_type": "display_data"
    },
    {
     "name": "stdout",
     "output_type": "stream",
     "text": [
      "----------------------------------------\n",
      "\n",
      "\n",
      "\n",
      "\n"
     ]
    },
    {
     "ename": "FileNotFoundError",
     "evalue": "[Errno 2] No such file or directory: 'C:\\\\Users\\\\daniel.sbatista\\\\Documents\\\\Estudo\\\\Projetos_Python\\\\Aprendendo Python\\\\tabela_nova.json'",
     "output_type": "error",
     "traceback": [
      "\u001b[1;31m---------------------------------------------------------------------------\u001b[0m",
      "\u001b[1;31mFileNotFoundError\u001b[0m                         Traceback (most recent call last)",
      "\u001b[1;32mc:\\Users\\daniel.sbatista\\Documents\\Estudo\\Assignment_Sign--Placa_de_Carro\\index2.ipynb Célula 8\u001b[0m line \u001b[0;36m2\n\u001b[0;32m     <a href='vscode-notebook-cell:/c%3A/Users/daniel.sbatista/Documents/Estudo/Assignment_Sign--Placa_de_Carro/index2.ipynb#X10sZmlsZQ%3D%3D?line=16'>17</a>\u001b[0m caminho \u001b[39m=\u001b[39m \u001b[39mr\u001b[39m\u001b[39m\"\u001b[39m\u001b[39mC:\u001b[39m\u001b[39m\\\u001b[39m\u001b[39mUsers\u001b[39m\u001b[39m\\\u001b[39m\u001b[39mdaniel.sbatista\u001b[39m\u001b[39m\\\u001b[39m\u001b[39mDocuments\u001b[39m\u001b[39m\\\u001b[39m\u001b[39mEstudo\u001b[39m\u001b[39m\\\u001b[39m\u001b[39mProjetos_Python\u001b[39m\u001b[39m\\\u001b[39m\u001b[39mAprendendo Python\u001b[39m\u001b[39m\\\u001b[39m\u001b[39mtabela_nova.json\u001b[39m\u001b[39m\"\u001b[39m\n\u001b[0;32m     <a href='vscode-notebook-cell:/c%3A/Users/daniel.sbatista/Documents/Estudo/Assignment_Sign--Placa_de_Carro/index2.ipynb#X10sZmlsZQ%3D%3D?line=18'>19</a>\u001b[0m \u001b[39m# Abrindo arquivo para demonstração em Json:\u001b[39;00m\n\u001b[1;32m---> <a href='vscode-notebook-cell:/c%3A/Users/daniel.sbatista/Documents/Estudo/Assignment_Sign--Placa_de_Carro/index2.ipynb#X10sZmlsZQ%3D%3D?line=19'>20</a>\u001b[0m \u001b[39mwith\u001b[39;00m \u001b[39mopen\u001b[39;49m(caminho) \u001b[39mas\u001b[39;00m arquivo:\n\u001b[0;32m     <a href='vscode-notebook-cell:/c%3A/Users/daniel.sbatista/Documents/Estudo/Assignment_Sign--Placa_de_Carro/index2.ipynb#X10sZmlsZQ%3D%3D?line=20'>21</a>\u001b[0m     arqv_json \u001b[39m=\u001b[39m json\u001b[39m.\u001b[39mload(arquivo)\n\u001b[0;32m     <a href='vscode-notebook-cell:/c%3A/Users/daniel.sbatista/Documents/Estudo/Assignment_Sign--Placa_de_Carro/index2.ipynb#X10sZmlsZQ%3D%3D?line=21'>22</a>\u001b[0m     \u001b[39mprint\u001b[39m(arqv_json)\n",
      "File \u001b[1;32mc:\\Users\\daniel.sbatista\\AppData\\Local\\Programs\\Python\\Python311\\Lib\\site-packages\\IPython\\core\\interactiveshell.py:284\u001b[0m, in \u001b[0;36m_modified_open\u001b[1;34m(file, *args, **kwargs)\u001b[0m\n\u001b[0;32m    277\u001b[0m \u001b[39mif\u001b[39;00m file \u001b[39min\u001b[39;00m {\u001b[39m0\u001b[39m, \u001b[39m1\u001b[39m, \u001b[39m2\u001b[39m}:\n\u001b[0;32m    278\u001b[0m     \u001b[39mraise\u001b[39;00m \u001b[39mValueError\u001b[39;00m(\n\u001b[0;32m    279\u001b[0m         \u001b[39mf\u001b[39m\u001b[39m\"\u001b[39m\u001b[39mIPython won\u001b[39m\u001b[39m'\u001b[39m\u001b[39mt let you open fd=\u001b[39m\u001b[39m{\u001b[39;00mfile\u001b[39m}\u001b[39;00m\u001b[39m by default \u001b[39m\u001b[39m\"\u001b[39m\n\u001b[0;32m    280\u001b[0m         \u001b[39m\"\u001b[39m\u001b[39mas it is likely to crash IPython. If you know what you are doing, \u001b[39m\u001b[39m\"\u001b[39m\n\u001b[0;32m    281\u001b[0m         \u001b[39m\"\u001b[39m\u001b[39myou can use builtins\u001b[39m\u001b[39m'\u001b[39m\u001b[39m open.\u001b[39m\u001b[39m\"\u001b[39m\n\u001b[0;32m    282\u001b[0m     )\n\u001b[1;32m--> 284\u001b[0m \u001b[39mreturn\u001b[39;00m io_open(file, \u001b[39m*\u001b[39;49margs, \u001b[39m*\u001b[39;49m\u001b[39m*\u001b[39;49mkwargs)\n",
      "\u001b[1;31mFileNotFoundError\u001b[0m: [Errno 2] No such file or directory: 'C:\\\\Users\\\\daniel.sbatista\\\\Documents\\\\Estudo\\\\Projetos_Python\\\\Aprendendo Python\\\\tabela_nova.json'"
     ]
    }
   ],
   "source": [
    "print(\"-\"*40)\n",
    "print(\"\\n\")\n",
    "\n",
    "# Criando tabela com os dados:\n",
    "df = pd.DataFrame(dicionario)\n",
    "\n",
    "# Demonstração d tabela:\n",
    "display(df)\n",
    "\n",
    "print(\"-\"*40)\n",
    "print(\"\\n\")\n",
    "print(\"\\n\")\n",
    "\n",
    "# Criando arquivo json com os dados\n",
    "df.to_json(\"tabela_nova.json\")\n",
    "\n",
    "caminho = r\"C:\\Users\\daniel.sbatista\\Documents\\Estudo\\Projetos_Python\\Aprendendo Python\\tabela_nova.json\"\n",
    "\n",
    "# Abrindo arquivo para demonstração em Json:\n",
    "with open(caminho) as arquivo:\n",
    "    arqv_json = json.load(arquivo)\n",
    "    print(arqv_json)\n",
    "    dados = json.dumps(arqv_json,indent=5,sort_keys=True)\n",
    "    print(dados) "
   ]
  }
 ],
 "metadata": {
  "kernelspec": {
   "display_name": "Python 3",
   "language": "python",
   "name": "python3"
  },
  "language_info": {
   "codemirror_mode": {
    "name": "ipython",
    "version": 3
   },
   "file_extension": ".py",
   "mimetype": "text/x-python",
   "name": "python",
   "nbconvert_exporter": "python",
   "pygments_lexer": "ipython3",
   "version": "3.11.2"
  }
 },
 "nbformat": 4,
 "nbformat_minor": 2
}
